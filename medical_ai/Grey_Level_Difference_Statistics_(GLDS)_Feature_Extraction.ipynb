{
  "nbformat": 4,
  "nbformat_minor": 0,
  "metadata": {
    "colab": {
      "provenance": []
    },
    "kernelspec": {
      "name": "python3",
      "display_name": "Python 3"
    },
    "language_info": {
      "name": "python"
    }
  },
  "cells": [
    {
      "cell_type": "markdown",
      "source": [
        "### Laboratory Task 9: Grey-Level Difference Statistics (GLDS) Feature Extraction"
      ],
      "metadata": {
        "id": "2KPYiGDOBlAP"
      }
    },
    {
      "cell_type": "code",
      "execution_count": null,
      "metadata": {
        "id": "NS-QNwW1BTtG"
      },
      "outputs": [],
      "source": [
        "import cv2\n",
        "import numpy as np\n",
        "import matplotlib.pyplot as plt\n",
        "from collections import Counter\n",
        "from PIL import Image"
      ]
    },
    {
      "cell_type": "markdown",
      "source": [
        "### Load a Sample Image & Convert to Grayscale\n"
      ],
      "metadata": {
        "id": "ojNYCBNN0AUM"
      }
    },
    {
      "cell_type": "code",
      "source": [
        "import cv2\n",
        "import numpy as np\n",
        "import matplotlib.pyplot as plt\n",
        "from collections import Counter\n",
        "\n",
        "# Load image\n",
        "img = cv2.imread('/content/CT.jpg', cv2.IMREAD_GRAYSCALE)\n",
        "img = cv2.resize(img, (16, 16))  # Resize to 16x16\n",
        "plt.imshow(img, cmap='gray')\n",
        "plt.title(\"Input Grayscale Image\")\n",
        "plt.axis('off')\n",
        "plt.show()"
      ],
      "metadata": {
        "colab": {
          "base_uri": "https://localhost:8080/",
          "height": 428
        },
        "id": "aDyTUFzDKsM7",
        "outputId": "d4b05df0-f439-4e37-b81d-dc532724e521"
      },
      "execution_count": null,
      "outputs": [
        {
          "output_type": "display_data",
          "data": {
            "text/plain": [
              "<Figure size 640x480 with 1 Axes>"
            ],
            "image/png": "[encoded data removed]"
          },
          "metadata": {}
        }
      ]
    },
    {
      "cell_type": "markdown",
      "source": [
        "###  GLDS: Compute Absolute Differences"
      ],
      "metadata": {
        "id": "oeQdCKNqyMDX"
      }
    },
    {
      "cell_type": "code",
      "source": [
        "import numpy as np\n",
        "from collections import Counter\n",
        "\n",
        "# Function to compute GLDS difference values in a specific direction\n",
        "def get_glds_differences(img, direction):\n",
        "    diffs = []\n",
        "    rows, cols = img.shape\n",
        "\n",
        "    for i in range(rows):\n",
        "        for j in range(cols):\n",
        "            try:\n",
        "                if direction == 0 and j+1 < cols:\n",
        "                    diff = abs(int(img[i, j]) - int(img[i, j+1]))\n",
        "                elif direction == 45 and i-1 >= 0 and j+1 < cols:\n",
        "                    diff = abs(int(img[i, j]) - int(img[i-1, j+1]))\n",
        "                elif direction == 90 and i-1 >= 0:\n",
        "                    diff = abs(int(img[i, j]) - int(img[i-1, j]))\n",
        "                elif direction == 135 and i-1 >= 0 and j-1 >= 0:\n",
        "                    diff = abs(int(img[i, j]) - int(img[i-1, j-1]))\n",
        "                else:\n",
        "                    continue\n",
        "                diffs.append(diff)\n",
        "            except:\n",
        "                continue\n",
        "    return diffs\n",
        "\n"
      ],
      "metadata": {
        "id": "jZl7gIHgyNiZ"
      },
      "execution_count": null,
      "outputs": []
    },
    {
      "cell_type": "markdown",
      "source": [
        "### Compute Probability Distributions"
      ],
      "metadata": {
        "id": "6dx1pnRMybRH"
      }
    },
    {
      "cell_type": "code",
      "source": [
        "def compute_probabilities(diffs):\n",
        "    total = len(diffs)\n",
        "    counter = Counter(diffs)\n",
        "    probs = {k: v / total for k, v in counter.items()}\n",
        "    return probs\n"
      ],
      "metadata": {
        "id": "qY11Lv_ByQOc"
      },
      "execution_count": null,
      "outputs": []
    },
    {
      "cell_type": "markdown",
      "source": [
        "### Define Texture Features"
      ],
      "metadata": {
        "id": "iHNI-baKydjY"
      }
    },
    {
      "cell_type": "code",
      "source": [
        "import math\n",
        "\n",
        "def compute_features(probs):\n",
        "    ASM = sum([p**2 for p in probs.values()])\n",
        "    Contrast = sum([d**2 * p for d, p in probs.items()])\n",
        "    Entropy = -sum([p * math.log2(p) for p in probs.values() if p > 0])\n",
        "    Mean = sum([d * p for d, p in probs.items()])\n",
        "    return ASM, Contrast, Entropy, Mean\n"
      ],
      "metadata": {
        "id": "J6N5Kce8yYuk"
      },
      "execution_count": null,
      "outputs": []
    },
    {
      "cell_type": "markdown",
      "source": [
        "### Full Pipeline – Compute for All Directions"
      ],
      "metadata": {
        "id": "MCCSfNtOypWi"
      }
    },
    {
      "cell_type": "code",
      "source": [
        "directions = [0, 45, 90, 135]\n",
        "\n",
        "for d in directions:\n",
        "    diffs = get_glds_differences(img, d)\n",
        "    probs = compute_probabilities(diffs)\n",
        "    asm, contrast, entropy, mean = compute_features(probs)\n",
        "\n",
        "    print(f\"\\nDirection {d}°:\")\n",
        "    print(f\"ASM: {asm:.4f}\")\n",
        "    print(f\"Contrast: {contrast:.4f}\")\n",
        "    print(f\"Entropy: {entropy:.4f}\")\n",
        "    print(f\"Mean: {mean:.4f}\")\n"
      ],
      "metadata": {
        "colab": {
          "base_uri": "https://localhost:8080/"
        },
        "id": "_R84YY3Y3IaD",
        "outputId": "0efe8751-4fea-4c4d-b102-1908b18f3722"
      },
      "execution_count": null,
      "outputs": [
        {
          "output_type": "stream",
          "name": "stdout",
          "text": [
            "\n",
            "Direction 0°:\n",
            "ASM: 0.1877\n",
            "Contrast: 7949.4542\n",
            "Entropy: 4.3792\n",
            "Mean: 45.8125\n",
            "\n",
            "Direction 45°:\n",
            "ASM: 0.1448\n",
            "Contrast: 9102.6000\n",
            "Entropy: 4.7465\n",
            "Mean: 53.6933\n",
            "\n",
            "Direction 90°:\n",
            "ASM: 0.2015\n",
            "Contrast: 7163.2167\n",
            "Entropy: 4.3153\n",
            "Mean: 42.1333\n",
            "\n",
            "Direction 135°:\n",
            "ASM: 0.1449\n",
            "Contrast: 9679.3556\n",
            "Entropy: 4.7547\n",
            "Mean: 55.3111\n"
          ]
        }
      ]
    },
    {
      "cell_type": "markdown",
      "source": [
        "## Visualize"
      ],
      "metadata": {
        "id": "_scrPDhc351E"
      }
    },
    {
      "cell_type": "code",
      "source": [
        "original_img = cv2.imread('/content/CT.jpg', cv2.IMREAD_GRAYSCALE)\n",
        "img_resized = cv2.resize(img, (16, 16))  # Resize to 16x16"
      ],
      "metadata": {
        "id": "GEkBppZf0xQ6"
      },
      "execution_count": null,
      "outputs": []
    },
    {
      "cell_type": "code",
      "source": [
        "# Show original image (if you have it)\n",
        "plt.figure(figsize=(6, 3))\n",
        "plt.subplot(1, 2, 1)\n",
        "plt.imshow(original_img, cmap='gray')\n",
        "plt.title(\"Original CT Image\")\n",
        "plt.axis('off')\n",
        "\n",
        "# Show 16x16 patch\n",
        "plt.subplot(1, 2, 2)\n",
        "plt.imshow(img_resized, cmap='gray')\n",
        "plt.title(\"16x16 CT Patch\")\n",
        "plt.axis('off')\n",
        "plt.tight_layout()\n",
        "plt.show()\n"
      ],
      "metadata": {
        "colab": {
          "base_uri": "https://localhost:8080/",
          "height": 316
        },
        "id": "GmGXJDD30f2G",
        "outputId": "22fbaaaf-9efd-4dbd-f4d0-7df033c6fb9e"
      },
      "execution_count": null,
      "outputs": [
        {
          "output_type": "display_data",
          "data": {
            "text/plain": [
              "<Figure size 600x300 with 2 Axes>"
            ],
            "image/png": "[encoded data removed]"
          },
          "metadata": {}
        }
      ]
    },
    {
      "cell_type": "markdown",
      "source": [
        "### Frequency Table of Gray-Level Differences"
      ],
      "metadata": {
        "id": "Uibd52E_33nu"
      }
    },
    {
      "cell_type": "code",
      "source": [
        "from collections import Counter\n",
        "import numpy as np\n",
        "\n",
        "def compute_glds_differences(img, angle=(0, 1)):\n",
        "    diffs = []\n",
        "    rows, cols = img.shape\n",
        "    for i in range(rows):\n",
        "        for j in range(cols):\n",
        "            ni, nj = i + angle[0], j + angle[1]\n",
        "            if 0 <= ni < rows and 0 <= nj < cols:\n",
        "                diff = abs(int(img[i, j]) - int(img[ni, nj]))\n",
        "                diffs.append(diff)\n",
        "    return diffs\n",
        "\n",
        "# Compute differences for 0°\n",
        "differences = compute_glds_differences(img_resized, angle=(0, 1))\n",
        "freq_table = dict(Counter(differences))\n",
        "print(\"Frequency Table of Absolute Differences:\")\n",
        "for k in sorted(freq_table):\n",
        "    print(f\"Δ={k} -> {freq_table[k]}\")\n"
      ],
      "metadata": {
        "colab": {
          "base_uri": "https://localhost:8080/"
        },
        "id": "QZu3FuzZ1WC9",
        "outputId": "dffbe086-cc91-4e25-a960-229d191c869b"
      },
      "execution_count": null,
      "outputs": [
        {
          "output_type": "stream",
          "name": "stdout",
          "text": [
            "Frequency Table of Absolute Differences:\n",
            "Δ=0 -> 102\n",
            "Δ=1 -> 4\n",
            "Δ=2 -> 6\n",
            "Δ=3 -> 1\n",
            "Δ=4 -> 2\n",
            "Δ=5 -> 1\n",
            "Δ=6 -> 3\n",
            "Δ=7 -> 5\n",
            "Δ=8 -> 3\n",
            "Δ=9 -> 1\n",
            "Δ=10 -> 3\n",
            "Δ=11 -> 6\n",
            "Δ=12 -> 2\n",
            "Δ=13 -> 2\n",
            "Δ=14 -> 3\n",
            "Δ=16 -> 1\n",
            "Δ=17 -> 3\n",
            "Δ=19 -> 2\n",
            "Δ=20 -> 2\n",
            "Δ=21 -> 2\n",
            "Δ=22 -> 1\n",
            "Δ=23 -> 2\n",
            "Δ=25 -> 1\n",
            "Δ=27 -> 2\n",
            "Δ=28 -> 1\n",
            "Δ=30 -> 2\n",
            "Δ=32 -> 1\n",
            "Δ=33 -> 3\n",
            "Δ=35 -> 2\n",
            "Δ=36 -> 2\n",
            "Δ=38 -> 1\n",
            "Δ=39 -> 1\n",
            "Δ=40 -> 1\n",
            "Δ=41 -> 1\n",
            "Δ=42 -> 4\n",
            "Δ=44 -> 1\n",
            "Δ=45 -> 1\n",
            "Δ=51 -> 1\n",
            "Δ=54 -> 2\n",
            "Δ=55 -> 1\n",
            "Δ=59 -> 1\n",
            "Δ=62 -> 2\n",
            "Δ=64 -> 1\n",
            "Δ=65 -> 1\n",
            "Δ=66 -> 1\n",
            "Δ=72 -> 2\n",
            "Δ=76 -> 1\n",
            "Δ=79 -> 1\n",
            "Δ=80 -> 1\n",
            "Δ=107 -> 1\n",
            "Δ=118 -> 1\n",
            "Δ=123 -> 1\n",
            "Δ=129 -> 1\n",
            "Δ=130 -> 2\n",
            "Δ=132 -> 2\n",
            "Δ=140 -> 1\n",
            "Δ=141 -> 1\n",
            "Δ=152 -> 1\n",
            "Δ=155 -> 3\n",
            "Δ=156 -> 1\n",
            "Δ=157 -> 1\n",
            "Δ=161 -> 1\n",
            "Δ=168 -> 1\n",
            "Δ=169 -> 1\n",
            "Δ=170 -> 1\n",
            "Δ=171 -> 1\n",
            "Δ=189 -> 1\n",
            "Δ=197 -> 1\n",
            "Δ=199 -> 1\n",
            "Δ=203 -> 1\n",
            "Δ=213 -> 1\n",
            "Δ=237 -> 1\n",
            "Δ=248 -> 1\n",
            "Δ=253 -> 2\n",
            "Δ=254 -> 5\n",
            "Δ=255 -> 9\n"
          ]
        }
      ]
    },
    {
      "cell_type": "markdown",
      "source": [
        "### Bar plot of pδ(i)"
      ],
      "metadata": {
        "id": "u1R3jmhw4JD4"
      }
    },
    {
      "cell_type": "code",
      "source": [
        "import matplotlib.pyplot as plt\n",
        "\n",
        "# Normalize frequencies to get pδ(i)\n",
        "total = sum(freq_table.values())\n",
        "p_delta = {k: v / total for k, v in freq_table.items()}\n",
        "\n",
        "# Plot\n",
        "plt.figure(figsize=(6, 4))\n",
        "plt.bar(p_delta.keys(), p_delta.values(), color='steelblue')\n",
        "plt.title(\"Bar Plot of $p_\\delta(i)$\")\n",
        "plt.xlabel(\"Gray-Level Difference (Δ)\")\n",
        "plt.ylabel(\"Probability\")\n",
        "plt.grid(True)\n",
        "plt.show()\n"
      ],
      "metadata": {
        "colab": {
          "base_uri": "https://localhost:8080/",
          "height": 412
        },
        "id": "6s8mE_l61Kzz",
        "outputId": "f99a7f65-be64-4b48-b97c-bcffebf8c5e2"
      },
      "execution_count": null,
      "outputs": [
        {
          "output_type": "display_data",
          "data": {
            "text/plain": [
              "<Figure size 600x400 with 1 Axes>"
            ],
            "image/png": "[encoded data removed]"
          },
          "metadata": {}
        }
      ]
    },
    {
      "cell_type": "markdown",
      "source": [
        "### Extracted feature values"
      ],
      "metadata": {
        "id": "5KwyUAF44NRp"
      }
    },
    {
      "cell_type": "code",
      "source": [
        "directions = [0, 45, 90, 135]\n",
        "\n",
        "for d in directions:\n",
        "    diffs = get_glds_differences(img, d)\n",
        "    probs = compute_probabilities(diffs)\n",
        "    asm, contrast, entropy, mean = compute_features(probs)\n",
        "\n",
        "    print(f\"\\nDirection {d}°:\")\n",
        "    print(f\"ASM: {asm:.4f}\")\n",
        "    print(f\"Contrast: {contrast:.4f}\")\n",
        "    print(f\"Entropy: {entropy:.4f}\")\n",
        "    print(f\"Mean: {mean:.4f}\")\n"
      ],
      "metadata": {
        "colab": {
          "base_uri": "https://localhost:8080/"
        },
        "id": "_fkz0j4n3Oad",
        "outputId": "6e4f38ca-3207-4c05-e1a2-bcb71922ce65"
      },
      "execution_count": null,
      "outputs": [
        {
          "output_type": "stream",
          "name": "stdout",
          "text": [
            "\n",
            "Direction 0°:\n",
            "ASM: 0.1877\n",
            "Contrast: 7949.4542\n",
            "Entropy: 4.3792\n",
            "Mean: 45.8125\n",
            "\n",
            "Direction 45°:\n",
            "ASM: 0.1448\n",
            "Contrast: 9102.6000\n",
            "Entropy: 4.7465\n",
            "Mean: 53.6933\n",
            "\n",
            "Direction 90°:\n",
            "ASM: 0.2015\n",
            "Contrast: 7163.2167\n",
            "Entropy: 4.3153\n",
            "Mean: 42.1333\n",
            "\n",
            "Direction 135°:\n",
            "ASM: 0.1449\n",
            "Contrast: 9679.3556\n",
            "Entropy: 4.7547\n",
            "Mean: 55.3111\n"
          ]
        }
      ]
    },
    {
      "cell_type": "markdown",
      "source": [
        "### Organize in a Summary Table"
      ],
      "metadata": {
        "id": "Jj2Ss0yw4TKE"
      }
    },
    {
      "cell_type": "code",
      "source": [
        "import pandas as pd\n",
        "\n",
        "features = {\n",
        "    \"Direction\": \"0°\",\n",
        "    \"Contrast\": contrast,\n",
        "    \"ASM\": asm,\n",
        "    \"Entropy\": entropy,\n",
        "    \"Mean\": mean\n",
        "}\n",
        "\n",
        "df_summary = pd.DataFrame([features])\n",
        "df_summary\n"
      ],
      "metadata": {
        "colab": {
          "base_uri": "https://localhost:8080/",
          "height": 89
        },
        "id": "AD4V0OJW11aK",
        "outputId": "908734a1-8683-4743-8290-e8fc94a66350"
      },
      "execution_count": null,
      "outputs": [
        {
          "output_type": "execute_result",
          "data": {
            "text/plain": [
              "  Direction     Contrast       ASM   Entropy       Mean\n",
              "0        0°  9679.355556  0.144889  4.754729  55.311111"
            ],
            "text/html": [
              "\n",
              "  <div id=\"df-bbc031ea-038f-465a-ab4d-2af43a894a18\" class=\"colab-df-container\">\n",
              "    <div>\n",
              "<style scoped>\n",
              "    .dataframe tbody tr th:only-of-type {\n",
              "        vertical-align: middle;\n",
              "    }\n",
              "\n",
              "    .dataframe tbody tr th {\n",
              "        vertical-align: top;\n",
              "    }\n",
              "\n",
              "    .dataframe thead th {\n",
              "        text-align: right;\n",
              "    }\n",
              "</style>\n",
              "<table border=\"1\" class=\"dataframe\">\n",
              "  <thead>\n",
              "    <tr style=\"text-align: right;\">\n",
              "      <th></th>\n",
              "      <th>Direction</th>\n",
              "      <th>Contrast</th>\n",
              "      <th>ASM</th>\n",
              "      <th>Entropy</th>\n",
              "      <th>Mean</th>\n",
              "    </tr>\n",
              "  </thead>\n",
              "  <tbody>\n",
              "    <tr>\n",
              "      <th>0</th>\n",
              "      <td>0°</td>\n",
              "      <td>9679.355556</td>\n",
              "      <td>0.144889</td>\n",
              "      <td>4.754729</td>\n",
              "      <td>55.311111</td>\n",
              "    </tr>\n",
              "  </tbody>\n",
              "</table>\n",
              "</div>\n",
              "    <div class=\"colab-df-buttons\">\n",
              "\n",
              "  <div class=\"colab-df-container\">\n",
              "    <button class=\"colab-df-convert\" onclick=\"convertToInteractive('df-bbc031ea-038f-465a-ab4d-2af43a894a18')\"\n",
              "            title=\"Convert this dataframe to an interactive table.\"\n",
              "            style=\"display:none;\">\n",
              "\n",
              "  <svg xmlns=\"http://www.w3.org/2000/svg\" height=\"24px\" viewBox=\"0 -960 960 960\">\n",
              "    <path d=\"M120-120v-720h720v720H120Zm60-500h600v-160H180v160Zm220 220h160v-160H400v160Zm0 220h160v-160H400v160ZM180-400h160v-160H180v160Zm440 0h160v-160H620v160ZM180-180h160v-160H180v160Zm440 0h160v-160H620v160Z\"/>\n",
              "  </svg>\n",
              "    </button>\n",
              "\n",
              "  <style>\n",
              "    .colab-df-container {\n",
              "      display:flex;\n",
              "      gap: 12px;\n",
              "    }\n",
              "\n",
              "    .colab-df-convert {\n",
              "      background-color: #E8F0FE;\n",
              "      border: none;\n",
              "      border-radius: 50%;\n",
              "      cursor: pointer;\n",
              "      display: none;\n",
              "      fill: #1967D2;\n",
              "      height: 32px;\n",
              "      padding: 0 0 0 0;\n",
              "      width: 32px;\n",
              "    }\n",
              "\n",
              "    .colab-df-convert:hover {\n",
              "      background-color: #E2EBFA;\n",
              "      box-shadow: 0px 1px 2px rgba(60, 64, 67, 0.3), 0px 1px 3px 1px rgba(60, 64, 67, 0.15);\n",
              "      fill: #174EA6;\n",
              "    }\n",
              "\n",
              "    .colab-df-buttons div {\n",
              "      margin-bottom: 4px;\n",
              "    }\n",
              "\n",
              "    [theme=dark] .colab-df-convert {\n",
              "      background-color: #3B4455;\n",
              "      fill: #D2E3FC;\n",
              "    }\n",
              "\n",
              "    [theme=dark] .colab-df-convert:hover {\n",
              "      background-color: #434B5C;\n",
              "      box-shadow: 0px 1px 3px 1px rgba(0, 0, 0, 0.15);\n",
              "      filter: drop-shadow(0px 1px 2px rgba(0, 0, 0, 0.3));\n",
              "      fill: #FFFFFF;\n",
              "    }\n",
              "  </style>\n",
              "\n",
              "    <script>\n",
              "      const buttonEl =\n",
              "        document.querySelector('#df-bbc031ea-038f-465a-ab4d-2af43a894a18 button.colab-df-convert');\n",
              "      buttonEl.style.display =\n",
              "        google.colab.kernel.accessAllowed ? 'block' : 'none';\n",
              "\n",
              "      async function convertToInteractive(key) {\n",
              "        const element = document.querySelector('#df-bbc031ea-038f-465a-ab4d-2af43a894a18');\n",
              "        const dataTable =\n",
              "          await google.colab.kernel.invokeFunction('convertToInteractive',\n",
              "                                                    [key], {});\n",
              "        if (!dataTable) return;\n",
              "\n",
              "        const docLinkHtml = 'Like what you see? Visit the ' +\n",
              "          '<a target=\"_blank\" href=https://colab.research.google.com/notebooks/data_table.ipynb>data table notebook</a>'\n",
              "          + ' to learn more about interactive tables.';\n",
              "        element.innerHTML = '';\n",
              "        dataTable['output_type'] = 'display_data';\n",
              "        await google.colab.output.renderOutput(dataTable, element);\n",
              "        const docLink = document.createElement('div');\n",
              "        docLink.innerHTML = docLinkHtml;\n",
              "        element.appendChild(docLink);\n",
              "      }\n",
              "    </script>\n",
              "  </div>\n",
              "\n",
              "\n",
              "  <div id=\"id_fb933672-a45a-42af-88d2-e18fe7f10dc1\">\n",
              "    <style>\n",
              "      .colab-df-generate {\n",
              "        background-color: #E8F0FE;\n",
              "        border: none;\n",
              "        border-radius: 50%;\n",
              "        cursor: pointer;\n",
              "        display: none;\n",
              "        fill: #1967D2;\n",
              "        height: 32px;\n",
              "        padding: 0 0 0 0;\n",
              "        width: 32px;\n",
              "      }\n",
              "\n",
              "      .colab-df-generate:hover {\n",
              "        background-color: #E2EBFA;\n",
              "        box-shadow: 0px 1px 2px rgba(60, 64, 67, 0.3), 0px 1px 3px 1px rgba(60, 64, 67, 0.15);\n",
              "        fill: #174EA6;\n",
              "      }\n",
              "\n",
              "      [theme=dark] .colab-df-generate {\n",
              "        background-color: #3B4455;\n",
              "        fill: #D2E3FC;\n",
              "      }\n",
              "\n",
              "      [theme=dark] .colab-df-generate:hover {\n",
              "        background-color: #434B5C;\n",
              "        box-shadow: 0px 1px 3px 1px rgba(0, 0, 0, 0.15);\n",
              "        filter: drop-shadow(0px 1px 2px rgba(0, 0, 0, 0.3));\n",
              "        fill: #FFFFFF;\n",
              "      }\n",
              "    </style>\n",
              "    <button class=\"colab-df-generate\" onclick=\"generateWithVariable('df_summary')\"\n",
              "            title=\"Generate code using this dataframe.\"\n",
              "            style=\"display:none;\">\n",
              "\n",
              "  <svg xmlns=\"http://www.w3.org/2000/svg\" height=\"24px\"viewBox=\"0 0 24 24\"\n",
              "       width=\"24px\">\n",
              "    <path d=\"M7,19H8.4L18.45,9,17,7.55,7,17.6ZM5,21V16.75L18.45,3.32a2,2,0,0,1,2.83,0l1.4,1.43a1.91,1.91,0,0,1,.58,1.4,1.91,1.91,0,0,1-.58,1.4L9.25,21ZM18.45,9,17,7.55Zm-12,3A5.31,5.31,0,0,0,4.9,8.1,5.31,5.31,0,0,0,1,6.5,5.31,5.31,0,0,0,4.9,4.9,5.31,5.31,0,0,0,6.5,1,5.31,5.31,0,0,0,8.1,4.9,5.31,5.31,0,0,0,12,6.5,5.46,5.46,0,0,0,6.5,12Z\"/>\n",
              "  </svg>\n",
              "    </button>\n",
              "    <script>\n",
              "      (() => {\n",
              "      const buttonEl =\n",
              "        document.querySelector('#id_fb933672-a45a-42af-88d2-e18fe7f10dc1 button.colab-df-generate');\n",
              "      buttonEl.style.display =\n",
              "        google.colab.kernel.accessAllowed ? 'block' : 'none';\n",
              "\n",
              "      buttonEl.onclick = () => {\n",
              "        google.colab.notebook.generateWithVariable('df_summary');\n",
              "      }\n",
              "      })();\n",
              "    </script>\n",
              "  </div>\n",
              "\n",
              "    </div>\n",
              "  </div>\n"
            ],
            "application/vnd.google.colaboratory.intrinsic+json": {
              "type": "dataframe",
              "variable_name": "df_summary",
              "summary": "{\n  \"name\": \"df_summary\",\n  \"rows\": 1,\n  \"fields\": [\n    {\n      \"column\": \"Direction\",\n      \"properties\": {\n        \"dtype\": \"string\",\n        \"num_unique_values\": 1,\n        \"samples\": [\n          \"0\\u00b0\"\n        ],\n        \"semantic_type\": \"\",\n        \"description\": \"\"\n      }\n    },\n    {\n      \"column\": \"Contrast\",\n      \"properties\": {\n        \"dtype\": \"number\",\n        \"std\": null,\n        \"min\": 9679.35555555556,\n        \"max\": 9679.35555555556,\n        \"num_unique_values\": 1,\n        \"samples\": [\n          9679.35555555556\n        ],\n        \"semantic_type\": \"\",\n        \"description\": \"\"\n      }\n    },\n    {\n      \"column\": \"ASM\",\n      \"properties\": {\n        \"dtype\": \"number\",\n        \"std\": null,\n        \"min\": 0.14488888888888818,\n        \"max\": 0.14488888888888818,\n        \"num_unique_values\": 1,\n        \"samples\": [\n          0.14488888888888818\n        ],\n        \"semantic_type\": \"\",\n        \"description\": \"\"\n      }\n    },\n    {\n      \"column\": \"Entropy\",\n      \"properties\": {\n        \"dtype\": \"number\",\n        \"std\": null,\n        \"min\": 4.754728798782069,\n        \"max\": 4.754728798782069,\n        \"num_unique_values\": 1,\n        \"samples\": [\n          4.754728798782069\n        ],\n        \"semantic_type\": \"\",\n        \"description\": \"\"\n      }\n    },\n    {\n      \"column\": \"Mean\",\n      \"properties\": {\n        \"dtype\": \"number\",\n        \"std\": null,\n        \"min\": 55.311111111111124,\n        \"max\": 55.311111111111124,\n        \"num_unique_values\": 1,\n        \"samples\": [\n          55.311111111111124\n        ],\n        \"semantic_type\": \"\",\n        \"description\": \"\"\n      }\n    }\n  ]\n}"
            }
          },
          "metadata": {},
          "execution_count": 16
        }
      ]
    },
    {
      "cell_type": "markdown",
      "source": [
        "## Observations\n",
        "Contrast is highest in the 135° direction, suggesting this direction captures the strongest intensity variation and edge detail.\n",
        "\n",
        "ASM (Angular Second Moment) is highest in 90°, indicating more homogeneity in this direction (i.e., pixel intensities are more similar).\n",
        "\n",
        "Entropy is highest for 135° and 45°, indicating more complexity and less predictability in these directions.\n",
        "\n",
        "Mean gray-level difference is also highest for 135°, aligning with its high contrast and entropy values."
      ],
      "metadata": {
        "id": "GppMpllr54Uh"
      }
    },
    {
      "cell_type": "markdown",
      "source": [
        "## Conclusions\n",
        "The GLDS-based analysis revealed that the 135° direction contains the most detailed textural variations in the CT patch, making it most suitable for tasks involving edge detection or segmentation. The 90° direction, with higher ASM, shows smoother regions. These directional insights help in understanding spatial patterns in medical images, aiding in better feature selection for diagnostic models."
      ],
      "metadata": {
        "id": "8v3GdOek6Cfw"
      }
    },
    {
      "cell_type": "code",
      "source": [],
      "metadata": {
        "id": "wova2EJM6Ls9"
      },
      "execution_count": null,
      "outputs": []
    }
  ]
}